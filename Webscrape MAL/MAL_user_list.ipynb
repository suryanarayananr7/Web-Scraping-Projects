{
 "cells": [
  {
   "cell_type": "code",
   "execution_count": 1,
   "id": "754fed3d",
   "metadata": {},
   "outputs": [],
   "source": [
    "import pandas as pd\n"
   ]
  },
  {
   "cell_type": "code",
   "execution_count": 16,
   "id": "1f12bf7b",
   "metadata": {},
   "outputs": [
    {
     "data": {
      "text/html": [
       "<div>\n",
       "<style scoped>\n",
       "    .dataframe tbody tr th:only-of-type {\n",
       "        vertical-align: middle;\n",
       "    }\n",
       "\n",
       "    .dataframe tbody tr th {\n",
       "        vertical-align: top;\n",
       "    }\n",
       "\n",
       "    .dataframe thead th {\n",
       "        text-align: right;\n",
       "    }\n",
       "</style>\n",
       "<table border=\"1\" class=\"dataframe\">\n",
       "  <thead>\n",
       "    <tr style=\"text-align: right;\">\n",
       "      <th></th>\n",
       "      <th>name</th>\n",
       "      <th>id_ref</th>\n",
       "      <th>consumption_status</th>\n",
       "      <th>is_rewatch</th>\n",
       "      <th>score</th>\n",
       "      <th>progress</th>\n",
       "      <th>start_date</th>\n",
       "      <th>finished_date</th>\n",
       "    </tr>\n",
       "  </thead>\n",
       "  <tbody>\n",
       "    <tr>\n",
       "      <th>0</th>\n",
       "      <td>Aharen-san wa Hakarenai</td>\n",
       "      <td>49520</td>\n",
       "      <td>{'name': 'consuming'}</td>\n",
       "      <td>False</td>\n",
       "      <td>0</td>\n",
       "      <td>2</td>\n",
       "      <td>NaN</td>\n",
       "      <td>NaN</td>\n",
       "    </tr>\n",
       "    <tr>\n",
       "      <th>1</th>\n",
       "      <td>Azumanga Daiou The Animation</td>\n",
       "      <td>66</td>\n",
       "      <td>{'name': 'consuming'}</td>\n",
       "      <td>False</td>\n",
       "      <td>0</td>\n",
       "      <td>1</td>\n",
       "      <td>NaN</td>\n",
       "      <td>NaN</td>\n",
       "    </tr>\n",
       "    <tr>\n",
       "      <th>2</th>\n",
       "      <td>Black Clover</td>\n",
       "      <td>34572</td>\n",
       "      <td>{'name': 'consuming'}</td>\n",
       "      <td>False</td>\n",
       "      <td>0</td>\n",
       "      <td>101</td>\n",
       "      <td>NaN</td>\n",
       "      <td>NaN</td>\n",
       "    </tr>\n",
       "    <tr>\n",
       "      <th>3</th>\n",
       "      <td>Blue Lock</td>\n",
       "      <td>49596</td>\n",
       "      <td>{'name': 'consuming'}</td>\n",
       "      <td>False</td>\n",
       "      <td>0</td>\n",
       "      <td>17</td>\n",
       "      <td>1.670717e+12</td>\n",
       "      <td>NaN</td>\n",
       "    </tr>\n",
       "    <tr>\n",
       "      <th>4</th>\n",
       "      <td>Boku no Hero Academia 6th Season</td>\n",
       "      <td>49918</td>\n",
       "      <td>{'name': 'consuming'}</td>\n",
       "      <td>False</td>\n",
       "      <td>0</td>\n",
       "      <td>2</td>\n",
       "      <td>NaN</td>\n",
       "      <td>NaN</td>\n",
       "    </tr>\n",
       "  </tbody>\n",
       "</table>\n",
       "</div>"
      ],
      "text/plain": [
       "                               name  id_ref     consumption_status  \\\n",
       "0           Aharen-san wa Hakarenai   49520  {'name': 'consuming'}   \n",
       "1      Azumanga Daiou The Animation      66  {'name': 'consuming'}   \n",
       "2                      Black Clover   34572  {'name': 'consuming'}   \n",
       "3                         Blue Lock   49596  {'name': 'consuming'}   \n",
       "4  Boku no Hero Academia 6th Season   49918  {'name': 'consuming'}   \n",
       "\n",
       "   is_rewatch  score  progress    start_date  finished_date  \n",
       "0       False      0         2           NaN            NaN  \n",
       "1       False      0         1           NaN            NaN  \n",
       "2       False      0       101           NaN            NaN  \n",
       "3       False      0        17  1.670717e+12            NaN  \n",
       "4       False      0         2           NaN            NaN  "
      ]
     },
     "execution_count": 16,
     "metadata": {},
     "output_type": "execute_result"
    }
   ],
   "source": [
    "data = pd.read_json('MAL_user_list.json')\n",
    "data.head()"
   ]
  },
  {
   "cell_type": "code",
   "execution_count": 13,
   "id": "e7c9880d",
   "metadata": {},
   "outputs": [
    {
     "name": "stdout",
     "output_type": "stream",
     "text": [
      "[ 0 10  8  9  6  7  5  1]\n"
     ]
    }
   ],
   "source": [
    "print(data['score'].unique())"
   ]
  },
  {
   "cell_type": "code",
   "execution_count": 21,
   "id": "c619a96b",
   "metadata": {},
   "outputs": [],
   "source": [
    "data.to_csv('MAL_user_list.csv')"
   ]
  },
  {
   "cell_type": "code",
   "execution_count": null,
   "id": "fd659061",
   "metadata": {},
   "outputs": [],
   "source": []
  }
 ],
 "metadata": {
  "kernelspec": {
   "display_name": "Python 3 (ipykernel)",
   "language": "python",
   "name": "python3"
  },
  "language_info": {
   "codemirror_mode": {
    "name": "ipython",
    "version": 3
   },
   "file_extension": ".py",
   "mimetype": "text/x-python",
   "name": "python",
   "nbconvert_exporter": "python",
   "pygments_lexer": "ipython3",
   "version": "3.9.7"
  }
 },
 "nbformat": 4,
 "nbformat_minor": 5
}
